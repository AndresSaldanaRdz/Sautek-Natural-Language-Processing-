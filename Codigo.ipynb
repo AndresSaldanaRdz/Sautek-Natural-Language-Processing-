{
 "cells": [
  {
   "cell_type": "code",
   "execution_count": 1,
   "id": "0f7f20cf",
   "metadata": {},
   "outputs": [],
   "source": [
    "import PyPDF2"
   ]
  },
  {
   "cell_type": "code",
   "execution_count": 2,
   "id": "f487d739",
   "metadata": {},
   "outputs": [],
   "source": [
    "# This function will extract the content of our pdf file.\n",
    "def getPDFFileContentToTXT(pdfFile):\n",
    "    myPDFFile = PyPDF2.PdfFileReader(pdfFile)\n",
    "    \n",
    "#Here, we will create the txt file that will contain our pdf file's data.\n",
    "    with open('pdfContent.txt', 'w') as pdf_output:\n",
    "        for page in range (myPDFFile.getNumPages()):\n",
    "            data = myPDFFile.getPage(page).extractText()\n",
    "            pdf_output.write(data)\n",
    "              \n",
    "# We're done with writting our pdf data into the txt file.\n",
    "# Now we will read those data and do some cleaning.\n",
    "    with open('pdfContent.txt', 'r') as myPDFContent:\n",
    "        return myPDFContent.read().replace('\\n',' ') #return the txt file and replace all \\n by blanck space"
   ]
  },
  {
   "cell_type": "code",
   "execution_count": 3,
   "id": "a8816826",
   "metadata": {},
   "outputs": [],
   "source": [
    "#/Users/andressaldana/Desktop/SautekNLP/CVLuisAngelLara"
   ]
  },
  {
   "cell_type": "markdown",
   "id": "67077d84",
   "metadata": {},
   "source": [
    "## Programa para analizar y calificar CV por Andres Saldaña"
   ]
  },
  {
   "cell_type": "code",
   "execution_count": 4,
   "id": "eea7fc4f",
   "metadata": {},
   "outputs": [
    {
     "name": "stdout",
     "output_type": "stream",
     "text": [
      "hello\n"
     ]
    }
   ],
   "source": [
    "print(\"hello\")"
   ]
  },
  {
   "cell_type": "markdown",
   "id": "f45568c6",
   "metadata": {},
   "source": [
    "### Subir Requerimientos"
   ]
  },
  {
   "cell_type": "code",
   "execution_count": null,
   "id": "4b8a0b93",
   "metadata": {},
   "outputs": [],
   "source": []
  },
  {
   "cell_type": "markdown",
   "id": "4dea2192",
   "metadata": {},
   "source": [
    "### Subir CV"
   ]
  },
  {
   "cell_type": "code",
   "execution_count": null,
   "id": "b5e7c233",
   "metadata": {},
   "outputs": [],
   "source": []
  },
  {
   "cell_type": "markdown",
   "id": "2807ba41",
   "metadata": {},
   "source": [
    "### Convertir CV a TXT"
   ]
  },
  {
   "cell_type": "code",
   "execution_count": 5,
   "id": "60fe6b61",
   "metadata": {},
   "outputs": [],
   "source": [
    "pdfFileContent = getPDFFileContentToTXT('CVLuisAngelLara.pdf')"
   ]
  },
  {
   "cell_type": "markdown",
   "id": "f7e344fe",
   "metadata": {},
   "source": [
    "### Buscar Requerimientos en CV"
   ]
  },
  {
   "cell_type": "code",
   "execution_count": null,
   "id": "bb9bead4",
   "metadata": {},
   "outputs": [],
   "source": []
  },
  {
   "cell_type": "markdown",
   "id": "3d590bc0",
   "metadata": {},
   "source": [
    "### Dar una Calificacion Basada en Los Requerimientos "
   ]
  },
  {
   "cell_type": "code",
   "execution_count": null,
   "id": "9386e2ed",
   "metadata": {},
   "outputs": [],
   "source": []
  }
 ],
 "metadata": {
  "kernelspec": {
   "display_name": "Python 3 (ipykernel)",
   "language": "python",
   "name": "python3"
  },
  "language_info": {
   "codemirror_mode": {
    "name": "ipython",
    "version": 3
   },
   "file_extension": ".py",
   "mimetype": "text/x-python",
   "name": "python",
   "nbconvert_exporter": "python",
   "pygments_lexer": "ipython3",
   "version": "3.9.12"
  }
 },
 "nbformat": 4,
 "nbformat_minor": 5
}
