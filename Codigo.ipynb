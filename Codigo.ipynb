{
 "cells": [
  {
   "cell_type": "code",
   "execution_count": 1,
   "id": "0f7f20cf",
   "metadata": {},
   "outputs": [],
   "source": [
    "import PyPDF2\n",
    "import nltk\n",
    "from nltk.tokenize import word_tokenize\n",
    "import re\n",
    "import pandas as pd\n",
    "from nltk.stem import SnowballStemmer\n",
    "from nltk.corpus import stopwords\n",
    "import os"
   ]
  },
  {
   "cell_type": "code",
   "execution_count": 2,
   "id": "f487d739",
   "metadata": {},
   "outputs": [],
   "source": [
    "# Funcion para convertir el contenido de un pdf a txt\n",
    "def getPDFFileContentToTXT(pdfFile):\n",
    "    myPDFFile = PyPDF2.PdfFileReader(pdfFile)\n",
    "    \n",
    "#Creamos un archivo txt con la informacion del pdf \n",
    "    with open('pdfContenido.txt', 'w') as pdf_output:\n",
    "        for page in range (myPDFFile.getNumPages()):\n",
    "            data = myPDFFile.getPage(page).extractText()\n",
    "            pdf_output.write(data)\n",
    "\n",
    "# Leemos la infromacion que acabamos de escribir e quitamos los espacios de lineas\n",
    "    with open('pdfContenido.txt', 'r') as myPDFContent:\n",
    "        return myPDFContent.read().replace('\\n',' ')"
   ]
  },
  {
   "cell_type": "markdown",
   "id": "67077d84",
   "metadata": {},
   "source": [
    "## Programa para analizar y calificar CV´s por Andres Saldaña"
   ]
  },
  {
   "cell_type": "markdown",
   "id": "2807ba41",
   "metadata": {},
   "source": [
    "### Requerimientos de Vacantes"
   ]
  },
  {
   "cell_type": "code",
   "execution_count": 3,
   "id": "f579979b",
   "metadata": {},
   "outputs": [],
   "source": [
    "df = pd.read_csv('Requisitos_Vacantes.csv')"
   ]
  },
  {
   "cell_type": "code",
   "execution_count": 4,
   "id": "e8d1cfa7",
   "metadata": {},
   "outputs": [],
   "source": [
    "df = df.drop(\"Otros\",axis = 1)"
   ]
  },
  {
   "cell_type": "code",
   "execution_count": 5,
   "id": "09cfe22e",
   "metadata": {},
   "outputs": [],
   "source": [
    "df = df.fillna(\" \") #rellenamos las casillas sin nada con un espacio"
   ]
  },
  {
   "cell_type": "code",
   "execution_count": 39,
   "id": "890ad02e",
   "metadata": {},
   "outputs": [
    {
     "data": {
      "text/plain": [
       "['Igualador', 'Facturacion']"
      ]
     },
     "execution_count": 39,
     "metadata": {},
     "output_type": "execute_result"
    }
   ],
   "source": [
    "df.columns.tolist()"
   ]
  },
  {
   "cell_type": "code",
   "execution_count": 7,
   "id": "0f90ade0",
   "metadata": {},
   "outputs": [
    {
     "data": {
      "text/plain": [
       "0        Facturación de clientes\n",
       "1      Cobro de ventas mostrador\n",
       "2    Elaboración de corte diario\n",
       "3         Elaboración de Pedidos\n",
       "4       Encargado de facturación\n",
       "Name: Facturacion, dtype: object"
      ]
     },
     "execution_count": 7,
     "metadata": {},
     "output_type": "execute_result"
    }
   ],
   "source": [
    "#Que vacante quieres cargar?\n",
    "\n",
    "vacante = \"Facturacion\"\n",
    "df[vacante]"
   ]
  },
  {
   "cell_type": "markdown",
   "id": "204ac015",
   "metadata": {},
   "source": [
    "### Hacer una lista con los requerimientos de la vacante "
   ]
  },
  {
   "cell_type": "code",
   "execution_count": 8,
   "id": "40b64673",
   "metadata": {},
   "outputs": [
    {
     "name": "stdout",
     "output_type": "stream",
     "text": [
      "Facturación de clientes Cobro de ventas mostrador Elaboración de corte diario Elaboración de Pedidos Encargado de facturación \n"
     ]
    }
   ],
   "source": [
    "requerimientos = \"\"\n",
    "\n",
    "for i in df[vacante]:\n",
    "    requerimientos = requerimientos +i + \" \"\n",
    "    \n",
    "print(requerimientos)"
   ]
  },
  {
   "cell_type": "markdown",
   "id": "6670a5c4",
   "metadata": {},
   "source": [
    "### Convertir CV a TXT"
   ]
  },
  {
   "cell_type": "code",
   "execution_count": 9,
   "id": "60fe6b61",
   "metadata": {},
   "outputs": [],
   "source": [
    "pdfFileContent = getPDFFileContentToTXT('CVF1.pdf')\n",
    "os.remove(\"pdfContenido.txt\") #removemos el archivo de texto creado (opcional)"
   ]
  },
  {
   "cell_type": "code",
   "execution_count": 10,
   "id": "c0e08e8a",
   "metadata": {
    "scrolled": true
   },
   "outputs": [
    {
     "data": {
      "text/plain": [
       "'Perla Leticia Sandoval EscobedoMonterrey, N. L.perlaleticiasandovalescob2_z7p@indeedemail.com+52 81 1798 1253Dispuesto a trasladarse a: cualquier parteExperiencia laboralAuxiliar AdministrativoCentro Regional de Acumuladores SA de CV.  -  Monterrey, N. L. junio 2015 - Actualmente Atención a clientes ,cajera , auxiliar de facturación, créditos y cobranza ,manejo de efectivo , cheque , transferencias , conciliaciones de saldo , reporte de caja , arqueos, cierres al día , depósitos bancarios, elaboración de notas de crédito ,notas de cargo ,aplicación de pagos, recibo de efectivo ,habilidades matemáticas ,manejo de problemas y conflictos , manejo de estrés ,manejo de correo ,portales de clientes ,conmutador, facilidad de palabra, facturas a revisión, trato con los vendedores ,encargada de departamento de atención a clientes y servicio a domicilio . ENCARGADA DE CREDITO Y COBRANZA /FACTURACION. Papeleria y Libreria Patria de Monterrey SA de CV  -  Monterrey, N. L. junio 2010 - mayo 2015 Responsabilidades Cobranza telefonica,  facturacion,  atencion  a  clientes,  trato  directo  con  mensajero  para  la  revision de facturas  y  la  cobranza  diaria,  conciliacion  bancaria,  realizar  notas  de  credito,  notas  de  cargo, identificacion y aplicacion de pagos, recibo de efectivo y cheques, archivo, revision de facturas.  Logros Tener la cartera con el saldo al dia, facturacion reciente.  Habilidades Matematica,manejo de problemas y conflictos, manejo de estres, comunicativo Educación y formación Prepa tecnica CONTADOR PRIVADO en Administracion Instituto Tecnico Comercial (ITC)  -  Monterrey, N. L. 2006 - 2009 Habilidades, conocimientos e idiomas  •    Excel, word, office.  Enlaceshttp://perla.sandovalescobedo@gmail.com'"
      ]
     },
     "execution_count": 10,
     "metadata": {},
     "output_type": "execute_result"
    }
   ],
   "source": [
    "pdfFileContent"
   ]
  },
  {
   "cell_type": "markdown",
   "id": "9e788aab",
   "metadata": {},
   "source": [
    "### Separamos las palabras pegadas TXT"
   ]
  },
  {
   "cell_type": "code",
   "execution_count": 11,
   "id": "f4e39e6e",
   "metadata": {},
   "outputs": [
    {
     "name": "stdout",
     "output_type": "stream",
     "text": [
      "Errores por separar (letras): o M o\n",
      "Errores por separar (numero): 3 D i\n",
      "Errores por separar (letras): e E x\n",
      "Errores por separar (letras): l A u\n",
      "Errores por separar (letras): o C e\n"
     ]
    }
   ],
   "source": [
    "count = 1\n",
    "\n",
    "for letter in range(len(pdfFileContent)): #funcion para limpiar y corregir errores de transformacion a txt\n",
    "    \n",
    "    count +=1\n",
    "    if count == len(pdfFileContent):\n",
    "        break\n",
    "    \n",
    "    l1 = pdfFileContent[letter]\n",
    "    l2 = pdfFileContent[letter + 1]\n",
    "    l3 = pdfFileContent[letter + 2]\n",
    "    \n",
    "    if l1.islower() == True and l2.isupper() == True and l3.islower() == True: #Errores de \\n\n",
    "        print(\"Errores por separar (letras): \" + l1,l2,l3)\n",
    "        pdfFileContent = pdfFileContent.replace(l1+l2+l3,l1+\" \"+l2+l3)\n",
    "        \n",
    "    if l1.isdigit() == True and l2.isupper() == True and l3.islower() == True: #Numeros pegados a letras mayusculas \n",
    "        print(\"Errores por separar (numero): \" + l1,l2,l3)\n",
    "        pdfFileContent = pdfFileContent.replace(l1+l2+l3,l1+\" \"+l2+l3)"
   ]
  },
  {
   "cell_type": "markdown",
   "id": "74b179d7",
   "metadata": {},
   "source": [
    "### Tokenize y removemos caracteres innecesarios (Tokens 1 y 2)"
   ]
  },
  {
   "cell_type": "code",
   "execution_count": 12,
   "id": "da3c50b3",
   "metadata": {},
   "outputs": [],
   "source": [
    "Tokens_1 = word_tokenize(pdfFileContent) \n",
    "#Hacemos token el CV de la persona y los requrimientos de las vacnates\n",
    "Tokens_vacantes_1 = word_tokenize(requerimientos)"
   ]
  },
  {
   "cell_type": "code",
   "execution_count": 13,
   "id": "3d5d92c2",
   "metadata": {},
   "outputs": [],
   "source": [
    "punctuation = re.compile(r'[-+/.?!,:;()•@[0-9]') #lista de caracteres que removeremos\n",
    "\n",
    "Tokens_2 = []\n",
    "for words in Tokens_1:\n",
    "    word = punctuation.sub(\"\",words)\n",
    "    if len(word)>0:\n",
    "        Tokens_2.append(word)\n",
    "        \n",
    "Tokens_vacantes_2 = []\n",
    "for words in Tokens_vacantes_1:\n",
    "    word = punctuation.sub(\"\",words)\n",
    "    if len(word)>0:\n",
    "        Tokens_vacantes_2.append(word)"
   ]
  },
  {
   "cell_type": "code",
   "execution_count": 14,
   "id": "4df0f89a",
   "metadata": {},
   "outputs": [
    {
     "data": {
      "text/plain": [
       "['trasladarse', 'a', 'cualquier', 'parte', 'Experiencia']"
      ]
     },
     "execution_count": 14,
     "metadata": {},
     "output_type": "execute_result"
    }
   ],
   "source": [
    "Tokens_2[10:15] #tokens con puras palabras sin caracteres"
   ]
  },
  {
   "cell_type": "code",
   "execution_count": 15,
   "id": "85aa476d",
   "metadata": {},
   "outputs": [
    {
     "data": {
      "text/plain": [
       "['Facturación', 'de', 'clientes', 'Cobro', 'de']"
      ]
     },
     "execution_count": 15,
     "metadata": {},
     "output_type": "execute_result"
    }
   ],
   "source": [
    "Tokens_vacantes_2[0:5]"
   ]
  },
  {
   "cell_type": "markdown",
   "id": "43cdbc8b",
   "metadata": {},
   "source": [
    "### Stem y remove stop words de el CV y los Requerimientos (Tokens 3 y 4)"
   ]
  },
  {
   "cell_type": "code",
   "execution_count": 16,
   "id": "9f6baca7",
   "metadata": {},
   "outputs": [],
   "source": [
    "stopw = stopwords.words(\"spanish\") #Removemos las palabras de relleno que no aportan informacion\n",
    "Tokens_3 = [word for word in Tokens_2 if word not in stopw] \n",
    "Tokens_vacantes_3 = [word for word in Tokens_vacantes_2 if word not in stopw] "
   ]
  },
  {
   "cell_type": "code",
   "execution_count": 17,
   "id": "30f9a6b6",
   "metadata": {},
   "outputs": [
    {
     "data": {
      "text/plain": [
       "['cualquier', 'parte', 'Experiencia', 'laboral', 'Auxiliar']"
      ]
     },
     "execution_count": 17,
     "metadata": {},
     "output_type": "execute_result"
    }
   ],
   "source": [
    "Tokens_3[10:15]"
   ]
  },
  {
   "cell_type": "code",
   "execution_count": 18,
   "id": "74f60a7c",
   "metadata": {},
   "outputs": [
    {
     "data": {
      "text/plain": [
       "['Facturación', 'clientes', 'Cobro', 'ventas', 'mostrador']"
      ]
     },
     "execution_count": 18,
     "metadata": {},
     "output_type": "execute_result"
    }
   ],
   "source": [
    "Tokens_vacantes_3[0:5]"
   ]
  },
  {
   "cell_type": "code",
   "execution_count": 19,
   "id": "5a3610cf",
   "metadata": {},
   "outputs": [],
   "source": [
    "sbst = SnowballStemmer('spanish')\n",
    "\n",
    "Tokens_4 = []\n",
    "for words in Tokens_3:\n",
    "    word = sbst.stem(words)\n",
    "    Tokens_4.append(word)\n",
    "    #print(words+\": \"+ sbst.stem(words))\n",
    "\n",
    "dic_revertir = {}\n",
    "Tokens_vacantes_4 = []\n",
    "for words in Tokens_vacantes_3:\n",
    "    word = sbst.stem(words)\n",
    "    Tokens_vacantes_4.append(word)\n",
    "    dic_revertir[word] = words"
   ]
  },
  {
   "cell_type": "code",
   "execution_count": 20,
   "id": "c2b8658d",
   "metadata": {},
   "outputs": [
    {
     "data": {
      "text/plain": [
       "['cualqui', 'part', 'experient', 'laboral', 'auxili']"
      ]
     },
     "execution_count": 20,
     "metadata": {},
     "output_type": "execute_result"
    }
   ],
   "source": [
    "Tokens_4[10:15]"
   ]
  },
  {
   "cell_type": "code",
   "execution_count": 21,
   "id": "bff4851f",
   "metadata": {},
   "outputs": [
    {
     "data": {
      "text/plain": [
       "['factur', 'client', 'cobr', 'vent', 'mostrador']"
      ]
     },
     "execution_count": 21,
     "metadata": {},
     "output_type": "execute_result"
    }
   ],
   "source": [
    "Tokens_vacantes_4[0:5]"
   ]
  },
  {
   "cell_type": "code",
   "execution_count": 22,
   "id": "0b6e2d7c",
   "metadata": {},
   "outputs": [
    {
     "data": {
      "text/plain": [
       "'perl letici sandoval escobed monterrey n lperlaleticiasandovalescob_zp indeedemailcom dispuest traslad cualqui part experient laboral auxili administr centr regional acumul sa cv monterrey n l juni actual atencion client cajer auxili factur credit cobranz manej efect chequ transferent concili sald report caj arque cierr dia deposit bancari elabor not credit not carg aplic pag recib efect habil matemat manej problem conflict manej estres manej corre portal client conmut facil palabr factur revision trat vendedor encarg departament atencion client servici domicili encarg de credit y cobranz facturacion papeleri libreri patri monterrey sa cv monterrey n l juni may respons cobranz telefon facturacion atencion client trat direct mensajer revision factur cobranz diari conciliacion bancari realiz not credit not carg identificacion aplicacion pag recib efect chequ archiv revision factur logr ten carter sald dia facturacion recient habil matemat manej problem conflict manej estres comunic educ formacion prep tecnic contador priv administracion institut tecnic comercial itc monterrey n l habil conoc idiom excel word offic enlaceshttp perlasandovalescobed gmailcom'"
      ]
     },
     "execution_count": 22,
     "metadata": {},
     "output_type": "execute_result"
    }
   ],
   "source": [
    "sentence_1 = \" \".join(Tokens_4)\n",
    "sentence_1"
   ]
  },
  {
   "cell_type": "code",
   "execution_count": 23,
   "id": "7f4b6113",
   "metadata": {},
   "outputs": [
    {
     "data": {
      "text/plain": [
       "'factur client cobr vent mostrador elabor cort diari elabor ped encarg factur'"
      ]
     },
     "execution_count": 23,
     "metadata": {},
     "output_type": "execute_result"
    }
   ],
   "source": [
    "sentence_2 = \" \".join(Tokens_vacantes_4)\n",
    "sentence_2"
   ]
  },
  {
   "cell_type": "markdown",
   "id": "f7e344fe",
   "metadata": {},
   "source": [
    "### Buscar Requerimientos en CV | Bag Of Words"
   ]
  },
  {
   "cell_type": "code",
   "execution_count": 24,
   "id": "347a919c",
   "metadata": {},
   "outputs": [
    {
     "data": {
      "text/html": [
       "<div>\n",
       "<style scoped>\n",
       "    .dataframe tbody tr th:only-of-type {\n",
       "        vertical-align: middle;\n",
       "    }\n",
       "\n",
       "    .dataframe tbody tr th {\n",
       "        vertical-align: top;\n",
       "    }\n",
       "\n",
       "    .dataframe thead th {\n",
       "        text-align: right;\n",
       "    }\n",
       "</style>\n",
       "<table border=\"1\" class=\"dataframe\">\n",
       "  <thead>\n",
       "    <tr style=\"text-align: right;\">\n",
       "      <th></th>\n",
       "      <th>actual</th>\n",
       "      <th>acumul</th>\n",
       "      <th>administr</th>\n",
       "      <th>administracion</th>\n",
       "      <th>aplic</th>\n",
       "      <th>aplicacion</th>\n",
       "      <th>archiv</th>\n",
       "      <th>arque</th>\n",
       "      <th>atencion</th>\n",
       "      <th>auxili</th>\n",
       "      <th>...</th>\n",
       "      <th>servici</th>\n",
       "      <th>tecnic</th>\n",
       "      <th>telefon</th>\n",
       "      <th>ten</th>\n",
       "      <th>transferent</th>\n",
       "      <th>traslad</th>\n",
       "      <th>trat</th>\n",
       "      <th>vendedor</th>\n",
       "      <th>vent</th>\n",
       "      <th>word</th>\n",
       "    </tr>\n",
       "  </thead>\n",
       "  <tbody>\n",
       "    <tr>\n",
       "      <th>0</th>\n",
       "      <td>1</td>\n",
       "      <td>1</td>\n",
       "      <td>1</td>\n",
       "      <td>1</td>\n",
       "      <td>1</td>\n",
       "      <td>1</td>\n",
       "      <td>1</td>\n",
       "      <td>1</td>\n",
       "      <td>3</td>\n",
       "      <td>2</td>\n",
       "      <td>...</td>\n",
       "      <td>1</td>\n",
       "      <td>2</td>\n",
       "      <td>1</td>\n",
       "      <td>1</td>\n",
       "      <td>1</td>\n",
       "      <td>1</td>\n",
       "      <td>2</td>\n",
       "      <td>1</td>\n",
       "      <td>0</td>\n",
       "      <td>1</td>\n",
       "    </tr>\n",
       "    <tr>\n",
       "      <th>1</th>\n",
       "      <td>0</td>\n",
       "      <td>0</td>\n",
       "      <td>0</td>\n",
       "      <td>0</td>\n",
       "      <td>0</td>\n",
       "      <td>0</td>\n",
       "      <td>0</td>\n",
       "      <td>0</td>\n",
       "      <td>0</td>\n",
       "      <td>0</td>\n",
       "      <td>...</td>\n",
       "      <td>0</td>\n",
       "      <td>0</td>\n",
       "      <td>0</td>\n",
       "      <td>0</td>\n",
       "      <td>0</td>\n",
       "      <td>0</td>\n",
       "      <td>0</td>\n",
       "      <td>0</td>\n",
       "      <td>1</td>\n",
       "      <td>0</td>\n",
       "    </tr>\n",
       "  </tbody>\n",
       "</table>\n",
       "<p>2 rows × 108 columns</p>\n",
       "</div>"
      ],
      "text/plain": [
       "   actual  acumul  administr  administracion  aplic  aplicacion  archiv  \\\n",
       "0       1       1          1               1      1           1       1   \n",
       "1       0       0          0               0      0           0       0   \n",
       "\n",
       "   arque  atencion  auxili  ...  servici  tecnic  telefon  ten  transferent  \\\n",
       "0      1         3       2  ...        1       2        1    1            1   \n",
       "1      0         0       0  ...        0       0        0    0            0   \n",
       "\n",
       "   traslad  trat  vendedor  vent  word  \n",
       "0        1     2         1     0     1  \n",
       "1        0     0         0     1     0  \n",
       "\n",
       "[2 rows x 108 columns]"
      ]
     },
     "execution_count": 24,
     "metadata": {},
     "output_type": "execute_result"
    }
   ],
   "source": [
    "import pandas as pd\n",
    "from sklearn.feature_extraction.text import CountVectorizer, TfidfVectorizer\n",
    "\n",
    "CountVec = CountVectorizer(ngram_range=(1,1)) # to use bigrams ngram_range=(2,2)\n",
    "\n",
    "#transform\n",
    "Count_data = CountVec.fit_transform([sentence_1,sentence_2])\n",
    " \n",
    "#create dataframe\n",
    "cv_dataframe = pd.DataFrame(Count_data.toarray(),columns = CountVec.get_feature_names_out())\n",
    "cv_dataframe"
   ]
  },
  {
   "cell_type": "code",
   "execution_count": 25,
   "id": "3838c628",
   "metadata": {},
   "outputs": [],
   "source": [
    "count = 0\n",
    "count2 = 0\n",
    "matches = []\n",
    "\n",
    "for i,j in zip(cv_dataframe.iloc[0],cv_dataframe.iloc[1]):\n",
    "    if i >= 1 and j >=1:\n",
    "        count += 1\n",
    "        matches.append(cv_dataframe.columns.values[count2])\n",
    "    count2 += 1"
   ]
  },
  {
   "cell_type": "markdown",
   "id": "3d590bc0",
   "metadata": {},
   "source": [
    "### Dar una Calificacion Basada en Los Requerimientos "
   ]
  },
  {
   "cell_type": "code",
   "execution_count": 26,
   "id": "9386e2ed",
   "metadata": {},
   "outputs": [
    {
     "name": "stdout",
     "output_type": "stream",
     "text": [
      "El perfil del vacante se alinea 42% con el de los requerimeitnos\n"
     ]
    }
   ],
   "source": [
    "final_score = (count / len(Tokens_vacantes_4))*100\n",
    "\n",
    "print(\"El perfil del vacante se alinea \" + str(round(final_score)) + \"% con el de los requerimeitnos\" )"
   ]
  },
  {
   "cell_type": "code",
   "execution_count": 27,
   "id": "daff9973",
   "metadata": {},
   "outputs": [
    {
     "name": "stdout",
     "output_type": "stream",
     "text": [
      "clientes\n",
      "diario\n",
      "Elaboración\n",
      "Encargado\n",
      "facturación\n"
     ]
    }
   ],
   "source": [
    "for i in matches: #lo que se encontro dentro del curriculum\n",
    "    print(dic_revertir[i])"
   ]
  },
  {
   "cell_type": "code",
   "execution_count": null,
   "id": "ffc983af",
   "metadata": {},
   "outputs": [],
   "source": []
  },
  {
   "cell_type": "code",
   "execution_count": null,
   "id": "6c04cfe1",
   "metadata": {},
   "outputs": [],
   "source": []
  },
  {
   "cell_type": "code",
   "execution_count": null,
   "id": "db5283e5",
   "metadata": {},
   "outputs": [],
   "source": []
  }
 ],
 "metadata": {
  "kernelspec": {
   "display_name": "Python 3 (ipykernel)",
   "language": "python",
   "name": "python3"
  },
  "language_info": {
   "codemirror_mode": {
    "name": "ipython",
    "version": 3
   },
   "file_extension": ".py",
   "mimetype": "text/x-python",
   "name": "python",
   "nbconvert_exporter": "python",
   "pygments_lexer": "ipython3",
   "version": "3.9.12"
  }
 },
 "nbformat": 4,
 "nbformat_minor": 5
}
