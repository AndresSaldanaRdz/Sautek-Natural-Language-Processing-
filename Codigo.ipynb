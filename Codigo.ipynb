{
 "cells": [
  {
   "cell_type": "code",
   "execution_count": 16,
   "id": "0f7f20cf",
   "metadata": {},
   "outputs": [],
   "source": [
    "import PyPDF2\n",
    "import nltk\n",
    "from nltk.tokenize import word_tokenize\n",
    "import re\n",
    "import pandas as pd"
   ]
  },
  {
   "cell_type": "code",
   "execution_count": 2,
   "id": "f487d739",
   "metadata": {},
   "outputs": [],
   "source": [
    "# Funcion para convertir el contenido de un pdf a txt\n",
    "def getPDFFileContentToTXT(pdfFile):\n",
    "    myPDFFile = PyPDF2.PdfFileReader(pdfFile)\n",
    "    \n",
    "#Creamos un archivo txt con la informacion del pdf \n",
    "    with open('pdfContenido.txt', 'w') as pdf_output:\n",
    "        for page in range (myPDFFile.getNumPages()):\n",
    "            data = myPDFFile.getPage(page).extractText()\n",
    "            pdf_output.write(data)\n",
    "\n",
    "# Leemos la infromacion que acabamos de escribir e quitamos los espacios de lineas\n",
    "    with open('pdfContenido.txt', 'r') as myPDFContent:\n",
    "        return myPDFContent.read().replace('\\n',' ')"
   ]
  },
  {
   "cell_type": "markdown",
   "id": "67077d84",
   "metadata": {},
   "source": [
    "## Programa para analizar y calificar CV´s por Andres Saldaña"
   ]
  },
  {
   "cell_type": "markdown",
   "id": "2807ba41",
   "metadata": {},
   "source": [
    "### Requerimientos de Vacantes"
   ]
  },
  {
   "cell_type": "code",
   "execution_count": 17,
   "id": "bddb6c4f",
   "metadata": {},
   "outputs": [],
   "source": [
    "df = pd.read_csv('Requisitos_Vacantes.csv')"
   ]
  },
  {
   "cell_type": "code",
   "execution_count": 23,
   "id": "2f69b572",
   "metadata": {},
   "outputs": [],
   "source": [
    "df = df.drop(\"Otros\",axis = 1)"
   ]
  },
  {
   "cell_type": "code",
   "execution_count": 25,
   "id": "ff7cd71c",
   "metadata": {},
   "outputs": [
    {
     "data": {
      "text/html": [
       "<div>\n",
       "<style scoped>\n",
       "    .dataframe tbody tr th:only-of-type {\n",
       "        vertical-align: middle;\n",
       "    }\n",
       "\n",
       "    .dataframe tbody tr th {\n",
       "        vertical-align: top;\n",
       "    }\n",
       "\n",
       "    .dataframe thead th {\n",
       "        text-align: right;\n",
       "    }\n",
       "</style>\n",
       "<table border=\"1\" class=\"dataframe\">\n",
       "  <thead>\n",
       "    <tr style=\"text-align: right;\">\n",
       "      <th></th>\n",
       "      <th>Igualador</th>\n",
       "      <th>Facturacion</th>\n",
       "    </tr>\n",
       "  </thead>\n",
       "  <tbody>\n",
       "    <tr>\n",
       "      <th>0</th>\n",
       "      <td>Igualación de colores</td>\n",
       "      <td>Facturación de clientes</td>\n",
       "    </tr>\n",
       "    <tr>\n",
       "      <th>1</th>\n",
       "      <td>Captura de bitácoras</td>\n",
       "      <td>Cobro de ventas mostrador</td>\n",
       "    </tr>\n",
       "    <tr>\n",
       "      <th>2</th>\n",
       "      <td>Trabajo en equipo</td>\n",
       "      <td>Elaboración de corte diario</td>\n",
       "    </tr>\n",
       "    <tr>\n",
       "      <th>3</th>\n",
       "      <td>Pintura automotriz</td>\n",
       "      <td>Elaboración de Pedidos</td>\n",
       "    </tr>\n",
       "    <tr>\n",
       "      <th>4</th>\n",
       "      <td>NaN</td>\n",
       "      <td>Encargado de facturación</td>\n",
       "    </tr>\n",
       "  </tbody>\n",
       "</table>\n",
       "</div>"
      ],
      "text/plain": [
       "               Igualador                  Facturacion\n",
       "0  Igualación de colores      Facturación de clientes\n",
       "1   Captura de bitácoras    Cobro de ventas mostrador\n",
       "2      Trabajo en equipo  Elaboración de corte diario\n",
       "3     Pintura automotriz       Elaboración de Pedidos\n",
       "4                    NaN     Encargado de facturación"
      ]
     },
     "execution_count": 25,
     "metadata": {},
     "output_type": "execute_result"
    }
   ],
   "source": [
    "df"
   ]
  },
  {
   "cell_type": "markdown",
   "id": "5e505bdb",
   "metadata": {},
   "source": [
    "### Convertir CV a TXT"
   ]
  },
  {
   "cell_type": "code",
   "execution_count": 3,
   "id": "60fe6b61",
   "metadata": {},
   "outputs": [],
   "source": [
    "pdfFileContent = getPDFFileContentToTXT('CV.pdf')"
   ]
  },
  {
   "cell_type": "code",
   "execution_count": 4,
   "id": "558bf1bf",
   "metadata": {
    "scrolled": true
   },
   "outputs": [
    {
     "data": {
      "text/plain": [
       "'Luis Hernández ramosTuxtla Gutiérrez, Chis.luisramos170300@gmail.com9614486352Experiencia laboralIgualador automotriz y encargado de sucursalComercializadora de pinturas y complementos s.a de c.v  -  Tuxtla Gutiérrez, Chis. abril 2019 - enero 2022 Igualador de pintura automotriz en la línea ppg Esmaltes  acrílicos,vendedor  de  mostrador  con  buena  presentación,puntualidad  con responsabilidad,buena administración de una sucursal ,con todas las ganas de trabajar y demostrar un buen trabajo con la visión de escálalar Educación y formación Bachillerato trunco o en curso en Administración de recursos humanos Cetis 138  -  Tuxtla Gutiérrez, Chis. Habilidades, conocimientos e idiomas  •    manejo de computadora    •    microsoft office    •    manejo de excel    •    manejo de personal    •    microsoft office  '"
      ]
     },
     "execution_count": 4,
     "metadata": {},
     "output_type": "execute_result"
    }
   ],
   "source": [
    "pdfFileContent"
   ]
  },
  {
   "cell_type": "markdown",
   "id": "aaf627ad",
   "metadata": {},
   "source": [
    "### Separamos las palabras pegadas TXT"
   ]
  },
  {
   "cell_type": "code",
   "execution_count": 5,
   "id": "b0935e89",
   "metadata": {},
   "outputs": [
    {
     "name": "stdout",
     "output_type": "stream",
     "text": [
      "Errores por separar (letras): s T u\n",
      "Errores por separar (numero): 2 E x\n",
      "Errores por separar (letras): l I g\n",
      "Errores por separar (letras): l C o\n"
     ]
    }
   ],
   "source": [
    "count = 1\n",
    "\n",
    "for letter in range(len(pdfFileContent)): #funcion para limpiar y corregir errores de transformacion a txt\n",
    "    \n",
    "    count +=1\n",
    "    if count == len(pdfFileContent):\n",
    "        break\n",
    "    \n",
    "    l1 = pdfFileContent[letter]\n",
    "    l2 = pdfFileContent[letter + 1]\n",
    "    l3 = pdfFileContent[letter + 2]\n",
    "    \n",
    "    if l1.islower() == True and l2.isupper() == True and l3.islower() == True: #Errores de \\n\n",
    "        print(\"Errores por separar (letras): \" + l1,l2,l3)\n",
    "        pdfFileContent = pdfFileContent.replace(l1+l2+l3,l1+\" \"+l2+l3)\n",
    "        \n",
    "    if l1.isdigit() == True and l2.isupper() == True and l3.islower() == True: #Numeros pegados a letras mayusculas \n",
    "        print(\"Errores por separar (numero): \" + l1,l2,l3)\n",
    "        pdfFileContent = pdfFileContent.replace(l1+l2+l3,l1+\" \"+l2+l3)"
   ]
  },
  {
   "cell_type": "markdown",
   "id": "c5f31bc0",
   "metadata": {},
   "source": [
    "### Tokenize y removemos caracteres innecesarios (Tokens 1)"
   ]
  },
  {
   "cell_type": "code",
   "execution_count": 11,
   "id": "3bcbaefe",
   "metadata": {},
   "outputs": [],
   "source": [
    "Tokens_1 = word_tokenize(pdfFileContent)\n",
    "#Tokens_pdfFileContent"
   ]
  },
  {
   "cell_type": "code",
   "execution_count": 12,
   "id": "bc5ac0e2",
   "metadata": {},
   "outputs": [],
   "source": [
    "punctuation = re.compile(r'[-.?!,:;()•@[0-9]') #lista de caracteres que removeremos\n",
    "\n",
    "Tokens_post_punctuation = []\n",
    "for words in Tokens_1:\n",
    "   word = punctuation.sub(\"\",words)\n",
    "   if len(word)>0:\n",
    "        Tokens_post_punctuation.append(word)"
   ]
  },
  {
   "cell_type": "code",
   "execution_count": 33,
   "id": "ccd46d3a",
   "metadata": {},
   "outputs": [
    {
     "data": {
      "text/plain": [
       "['Luis', 'Hernández', 'ramos', 'Tuxtla', 'Gutiérrez', 'Chisluisramos']"
      ]
     },
     "execution_count": 33,
     "metadata": {},
     "output_type": "execute_result"
    }
   ],
   "source": [
    "Tokens_post_punctuation[0:6] #tokens con puras palabras sin caracteres"
   ]
  },
  {
   "cell_type": "markdown",
   "id": "ad489e0b",
   "metadata": {},
   "source": [
    "### Lemmetize y remove stop words de el CV y los Requerimientos (Tokens 2)"
   ]
  },
  {
   "cell_type": "code",
   "execution_count": null,
   "id": "663becad",
   "metadata": {},
   "outputs": [],
   "source": []
  },
  {
   "cell_type": "markdown",
   "id": "f7e344fe",
   "metadata": {},
   "source": [
    "### Buscar Requerimientos en CV | Bag Of Words"
   ]
  },
  {
   "cell_type": "code",
   "execution_count": null,
   "id": "f0c6865e",
   "metadata": {},
   "outputs": [],
   "source": []
  },
  {
   "cell_type": "markdown",
   "id": "3d590bc0",
   "metadata": {},
   "source": [
    "### Dar una Calificacion Basada en Los Requerimientos "
   ]
  },
  {
   "cell_type": "code",
   "execution_count": null,
   "id": "9386e2ed",
   "metadata": {},
   "outputs": [],
   "source": []
  },
  {
   "cell_type": "code",
   "execution_count": null,
   "id": "86643652",
   "metadata": {},
   "outputs": [],
   "source": []
  },
  {
   "cell_type": "code",
   "execution_count": null,
   "id": "15880b86",
   "metadata": {},
   "outputs": [],
   "source": []
  },
  {
   "cell_type": "code",
   "execution_count": null,
   "id": "a962d386",
   "metadata": {},
   "outputs": [],
   "source": []
  },
  {
   "cell_type": "code",
   "execution_count": null,
   "id": "0cf513c2",
   "metadata": {},
   "outputs": [],
   "source": []
  }
 ],
 "metadata": {
  "kernelspec": {
   "display_name": "Python 3 (ipykernel)",
   "language": "python",
   "name": "python3"
  },
  "language_info": {
   "codemirror_mode": {
    "name": "ipython",
    "version": 3
   },
   "file_extension": ".py",
   "mimetype": "text/x-python",
   "name": "python",
   "nbconvert_exporter": "python",
   "pygments_lexer": "ipython3",
   "version": "3.9.12"
  }
 },
 "nbformat": 4,
 "nbformat_minor": 5
}
