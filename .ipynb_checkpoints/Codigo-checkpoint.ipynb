{
 "cells": [
  {
   "cell_type": "code",
   "execution_count": 1,
   "id": "0f7f20cf",
   "metadata": {},
   "outputs": [],
   "source": [
    "import PyPDF2\n",
    "import nltk\n",
    "from nltk.tokenize import word_tokenize\n",
    "import re\n",
    "import pandas as pd\n",
    "from nltk.stem import SnowballStemmer\n",
    "from nltk.corpus import stopwords"
   ]
  },
  {
   "cell_type": "code",
   "execution_count": 2,
   "id": "f487d739",
   "metadata": {},
   "outputs": [],
   "source": [
    "# Funcion para convertir el contenido de un pdf a txt\n",
    "def getPDFFileContentToTXT(pdfFile):\n",
    "    myPDFFile = PyPDF2.PdfFileReader(pdfFile)\n",
    "    \n",
    "#Creamos un archivo txt con la informacion del pdf \n",
    "    with open('pdfContenido.txt', 'w') as pdf_output:\n",
    "        for page in range (myPDFFile.getNumPages()):\n",
    "            data = myPDFFile.getPage(page).extractText()\n",
    "            pdf_output.write(data)\n",
    "\n",
    "# Leemos la infromacion que acabamos de escribir e quitamos los espacios de lineas\n",
    "    with open('pdfContenido.txt', 'r') as myPDFContent:\n",
    "        return myPDFContent.read().replace('\\n',' ')"
   ]
  },
  {
   "cell_type": "markdown",
   "id": "67077d84",
   "metadata": {},
   "source": [
    "## Programa para analizar y calificar CV´s por Andres Saldaña"
   ]
  },
  {
   "cell_type": "markdown",
   "id": "2807ba41",
   "metadata": {},
   "source": [
    "### Requerimientos de Vacantes"
   ]
  },
  {
   "cell_type": "code",
   "execution_count": 3,
   "id": "37ef619e",
   "metadata": {},
   "outputs": [],
   "source": [
    "df = pd.read_csv('Requisitos_Vacantes.csv')"
   ]
  },
  {
   "cell_type": "code",
   "execution_count": 4,
   "id": "031f6678",
   "metadata": {},
   "outputs": [],
   "source": [
    "df = df.drop(\"Otros\",axis = 1)"
   ]
  },
  {
   "cell_type": "code",
   "execution_count": 5,
   "id": "10ceaef1",
   "metadata": {},
   "outputs": [],
   "source": [
    "df = df.fillna(\" \") #rellenamos las casillas sin nada con un espacio"
   ]
  },
  {
   "cell_type": "code",
   "execution_count": 6,
   "id": "118fc85b",
   "metadata": {},
   "outputs": [
    {
     "data": {
      "text/html": [
       "<div>\n",
       "<style scoped>\n",
       "    .dataframe tbody tr th:only-of-type {\n",
       "        vertical-align: middle;\n",
       "    }\n",
       "\n",
       "    .dataframe tbody tr th {\n",
       "        vertical-align: top;\n",
       "    }\n",
       "\n",
       "    .dataframe thead th {\n",
       "        text-align: right;\n",
       "    }\n",
       "</style>\n",
       "<table border=\"1\" class=\"dataframe\">\n",
       "  <thead>\n",
       "    <tr style=\"text-align: right;\">\n",
       "      <th></th>\n",
       "      <th>Igualador</th>\n",
       "      <th>Facturacion</th>\n",
       "    </tr>\n",
       "  </thead>\n",
       "  <tbody>\n",
       "    <tr>\n",
       "      <th>0</th>\n",
       "      <td>Igualación de colores</td>\n",
       "      <td>Facturación de clientes</td>\n",
       "    </tr>\n",
       "    <tr>\n",
       "      <th>1</th>\n",
       "      <td>Captura de bitácoras</td>\n",
       "      <td>Cobro de ventas mostrador</td>\n",
       "    </tr>\n",
       "    <tr>\n",
       "      <th>2</th>\n",
       "      <td>Trabajo en equipo</td>\n",
       "      <td>Elaboración de corte diario</td>\n",
       "    </tr>\n",
       "    <tr>\n",
       "      <th>3</th>\n",
       "      <td>Pintura automotriz</td>\n",
       "      <td>Elaboración de Pedidos</td>\n",
       "    </tr>\n",
       "    <tr>\n",
       "      <th>4</th>\n",
       "      <td></td>\n",
       "      <td>Encargado de facturación</td>\n",
       "    </tr>\n",
       "  </tbody>\n",
       "</table>\n",
       "</div>"
      ],
      "text/plain": [
       "               Igualador                  Facturacion\n",
       "0  Igualación de colores      Facturación de clientes\n",
       "1   Captura de bitácoras    Cobro de ventas mostrador\n",
       "2      Trabajo en equipo  Elaboración de corte diario\n",
       "3     Pintura automotriz       Elaboración de Pedidos\n",
       "4                            Encargado de facturación"
      ]
     },
     "execution_count": 6,
     "metadata": {},
     "output_type": "execute_result"
    }
   ],
   "source": [
    "df"
   ]
  },
  {
   "cell_type": "code",
   "execution_count": 7,
   "id": "1df7ff72",
   "metadata": {},
   "outputs": [
    {
     "data": {
      "text/plain": [
       "0    Igualación de colores\n",
       "1     Captura de bitácoras\n",
       "2        Trabajo en equipo\n",
       "3       Pintura automotriz\n",
       "4                         \n",
       "Name: Igualador, dtype: object"
      ]
     },
     "execution_count": 7,
     "metadata": {},
     "output_type": "execute_result"
    }
   ],
   "source": [
    "#Que vacante quieres cargar?\n",
    "\n",
    "vacante = \"Igualador\"\n",
    "df[vacante]"
   ]
  },
  {
   "cell_type": "markdown",
   "id": "5886ba37",
   "metadata": {},
   "source": [
    "### Hacer una lista con los requerimientos de la vacante "
   ]
  },
  {
   "cell_type": "code",
   "execution_count": 8,
   "id": "70513313",
   "metadata": {},
   "outputs": [
    {
     "name": "stdout",
     "output_type": "stream",
     "text": [
      "Igualación de colores Captura de bitácoras Trabajo en equipo Pintura automotriz   \n"
     ]
    }
   ],
   "source": [
    "requerimientos = \"\"\n",
    "\n",
    "for i in df[vacante]:\n",
    "    requerimientos = requerimientos +i + \" \"\n",
    "    \n",
    "print(requerimientos)"
   ]
  },
  {
   "cell_type": "markdown",
   "id": "3a3c197b",
   "metadata": {},
   "source": [
    "### Convertir CV a TXT"
   ]
  },
  {
   "cell_type": "code",
   "execution_count": 9,
   "id": "60fe6b61",
   "metadata": {},
   "outputs": [],
   "source": [
    "pdfFileContent = getPDFFileContentToTXT('CV.pdf')"
   ]
  },
  {
   "cell_type": "code",
   "execution_count": 10,
   "id": "3c600bc1",
   "metadata": {
    "scrolled": true
   },
   "outputs": [
    {
     "data": {
      "text/plain": [
       "'Luis Hernández ramosTuxtla Gutiérrez, Chis.luisramos170300@gmail.com9614486352Experiencia laboralIgualador automotriz y encargado de sucursalComercializadora de pinturas y complementos s.a de c.v  -  Tuxtla Gutiérrez, Chis. abril 2019 - enero 2022 Igualador de pintura automotriz en la línea ppg Esmaltes  acrílicos,vendedor  de  mostrador  con  buena  presentación,puntualidad  con responsabilidad,buena administración de una sucursal ,con todas las ganas de trabajar y demostrar un buen trabajo con la visión de escálalar Educación y formación Bachillerato trunco o en curso en Administración de recursos humanos Cetis 138  -  Tuxtla Gutiérrez, Chis. Habilidades, conocimientos e idiomas  •    manejo de computadora    •    microsoft office    •    manejo de excel    •    manejo de personal    •    microsoft office  '"
      ]
     },
     "execution_count": 10,
     "metadata": {},
     "output_type": "execute_result"
    }
   ],
   "source": [
    "pdfFileContent"
   ]
  },
  {
   "cell_type": "markdown",
   "id": "a88a87a3",
   "metadata": {},
   "source": [
    "### Separamos las palabras pegadas TXT"
   ]
  },
  {
   "cell_type": "code",
   "execution_count": 11,
   "id": "b5d6b17f",
   "metadata": {},
   "outputs": [
    {
     "name": "stdout",
     "output_type": "stream",
     "text": [
      "Errores por separar (letras): s T u\n",
      "Errores por separar (numero): 2 E x\n",
      "Errores por separar (letras): l I g\n",
      "Errores por separar (letras): l C o\n"
     ]
    }
   ],
   "source": [
    "count = 1\n",
    "\n",
    "for letter in range(len(pdfFileContent)): #funcion para limpiar y corregir errores de transformacion a txt\n",
    "    \n",
    "    count +=1\n",
    "    if count == len(pdfFileContent):\n",
    "        break\n",
    "    \n",
    "    l1 = pdfFileContent[letter]\n",
    "    l2 = pdfFileContent[letter + 1]\n",
    "    l3 = pdfFileContent[letter + 2]\n",
    "    \n",
    "    if l1.islower() == True and l2.isupper() == True and l3.islower() == True: #Errores de \\n\n",
    "        print(\"Errores por separar (letras): \" + l1,l2,l3)\n",
    "        pdfFileContent = pdfFileContent.replace(l1+l2+l3,l1+\" \"+l2+l3)\n",
    "        \n",
    "    if l1.isdigit() == True and l2.isupper() == True and l3.islower() == True: #Numeros pegados a letras mayusculas \n",
    "        print(\"Errores por separar (numero): \" + l1,l2,l3)\n",
    "        pdfFileContent = pdfFileContent.replace(l1+l2+l3,l1+\" \"+l2+l3)"
   ]
  },
  {
   "cell_type": "markdown",
   "id": "522bd810",
   "metadata": {},
   "source": [
    "### Tokenize y removemos caracteres innecesarios (Tokens 1 y 2)"
   ]
  },
  {
   "cell_type": "code",
   "execution_count": 12,
   "id": "ff01d776",
   "metadata": {},
   "outputs": [],
   "source": [
    "Tokens_1 = word_tokenize(pdfFileContent) \n",
    "#Hacemos token el CV de la persona y los requrimientos de las vacnates\n",
    "Tokens_vacantes_1 = word_tokenize(requerimientos)"
   ]
  },
  {
   "cell_type": "code",
   "execution_count": 13,
   "id": "282f7b01",
   "metadata": {},
   "outputs": [],
   "source": [
    "punctuation = re.compile(r'[-.?!,:;()•@[0-9]') #lista de caracteres que removeremos\n",
    "\n",
    "Tokens_2 = []\n",
    "for words in Tokens_1:\n",
    "    word = punctuation.sub(\"\",words)\n",
    "    if len(word)>0:\n",
    "        Tokens_2.append(word)\n",
    "        \n",
    "Tokens_vacantes_2 = []\n",
    "for words in Tokens_vacantes_1:\n",
    "    word = punctuation.sub(\"\",words)\n",
    "    if len(word)>0:\n",
    "        Tokens_vacantes_2.append(word)"
   ]
  },
  {
   "cell_type": "code",
   "execution_count": 14,
   "id": "db2885a6",
   "metadata": {},
   "outputs": [
    {
     "data": {
      "text/plain": [
       "['automotriz', 'y', 'encargado', 'de', 'sucursal']"
      ]
     },
     "execution_count": 14,
     "metadata": {},
     "output_type": "execute_result"
    }
   ],
   "source": [
    "Tokens_2[10:15] #tokens con puras palabras sin caracteres"
   ]
  },
  {
   "cell_type": "code",
   "execution_count": 15,
   "id": "bf6a6417",
   "metadata": {},
   "outputs": [
    {
     "data": {
      "text/plain": [
       "['Igualación', 'de', 'colores', 'Captura', 'de']"
      ]
     },
     "execution_count": 15,
     "metadata": {},
     "output_type": "execute_result"
    }
   ],
   "source": [
    "Tokens_vacantes_2[0:5]"
   ]
  },
  {
   "cell_type": "markdown",
   "id": "49f122ee",
   "metadata": {},
   "source": [
    "### Lemmetize y remove stop words de el CV y los Requerimientos (Tokens 3 y 4)"
   ]
  },
  {
   "cell_type": "code",
   "execution_count": 16,
   "id": "07775159",
   "metadata": {},
   "outputs": [],
   "source": [
    "stopw = stopwords.words(\"spanish\") #Removemos las palabras de relleno que no aportan informacion\n",
    "Tokens_3 = [word for word in Tokens_2 if word not in stopw] \n",
    "Tokens_vacantes_3 = [word for word in Tokens_vacantes_2 if word not in stopw] "
   ]
  },
  {
   "cell_type": "code",
   "execution_count": 17,
   "id": "02f7e709",
   "metadata": {},
   "outputs": [
    {
     "data": {
      "text/plain": [
       "['automotriz', 'encargado', 'sucursal', 'Comercializadora', 'pinturas']"
      ]
     },
     "execution_count": 17,
     "metadata": {},
     "output_type": "execute_result"
    }
   ],
   "source": [
    "Tokens_3[10:15]"
   ]
  },
  {
   "cell_type": "code",
   "execution_count": 18,
   "id": "e471ac37",
   "metadata": {},
   "outputs": [
    {
     "data": {
      "text/plain": [
       "['Igualación', 'colores', 'Captura', 'bitácoras', 'Trabajo']"
      ]
     },
     "execution_count": 18,
     "metadata": {},
     "output_type": "execute_result"
    }
   ],
   "source": [
    "Tokens_vacantes_3[0:5]"
   ]
  },
  {
   "cell_type": "code",
   "execution_count": 19,
   "id": "c6658ea0",
   "metadata": {},
   "outputs": [],
   "source": [
    "sbst = SnowballStemmer('spanish')\n",
    "\n",
    "Tokens_4 = []\n",
    "for words in Tokens_3:\n",
    "    word = sbst.stem(words)\n",
    "    Tokens_4.append(word)\n",
    "    #print(words+\": \"+ sbst.stem(words))\n",
    "    \n",
    "Tokens_vacantes_4 = []\n",
    "for words in Tokens_vacantes_3:\n",
    "    word = sbst.stem(words)\n",
    "    Tokens_vacantes_4.append(word)"
   ]
  },
  {
   "cell_type": "code",
   "execution_count": 20,
   "id": "ec98331a",
   "metadata": {},
   "outputs": [
    {
     "data": {
      "text/plain": [
       "['automotriz', 'encarg', 'sucursal', 'comercializ', 'pintur']"
      ]
     },
     "execution_count": 20,
     "metadata": {},
     "output_type": "execute_result"
    }
   ],
   "source": [
    "Tokens_4[10:15]"
   ]
  },
  {
   "cell_type": "code",
   "execution_count": 21,
   "id": "e8530e94",
   "metadata": {},
   "outputs": [
    {
     "data": {
      "text/plain": [
       "['igual', 'color', 'captur', 'bitacor', 'trabaj']"
      ]
     },
     "execution_count": 21,
     "metadata": {},
     "output_type": "execute_result"
    }
   ],
   "source": [
    "Tokens_vacantes_4[0:5]"
   ]
  },
  {
   "cell_type": "code",
   "execution_count": 22,
   "id": "d7a96cbd",
   "metadata": {},
   "outputs": [
    {
     "data": {
      "text/plain": [
       "'luis hernandez ram tuxtl gutierrez chisluisr gmailcom experient laboral igual automotriz encarg sucursal comercializ pintur complement sa cv tuxtl gutierrez chis abril ener igual pintur automotriz line ppg esmalt acril vendedor mostrador buen present puntual respons buen administr sucursal tod gan trabaj demostr buen trabaj vision escalal educ formacion bachillerat trunc curs administr recurs human cetis tuxtl gutierrez chis habil conoc idiom manej comput microsoft offic manej excel manej personal microsoft offic'"
      ]
     },
     "execution_count": 22,
     "metadata": {},
     "output_type": "execute_result"
    }
   ],
   "source": [
    "sentence_1 = \" \".join(Tokens_4)\n",
    "sentence_1"
   ]
  },
  {
   "cell_type": "code",
   "execution_count": 23,
   "id": "61d34448",
   "metadata": {},
   "outputs": [
    {
     "data": {
      "text/plain": [
       "'igual color captur bitacor trabaj equip pintur automotriz'"
      ]
     },
     "execution_count": 23,
     "metadata": {},
     "output_type": "execute_result"
    }
   ],
   "source": [
    "sentence_2 = \" \".join(Tokens_vacantes_4)\n",
    "sentence_2"
   ]
  },
  {
   "cell_type": "markdown",
   "id": "f7e344fe",
   "metadata": {},
   "source": [
    "### Buscar Requerimientos en CV | Bag Of Words"
   ]
  },
  {
   "cell_type": "code",
   "execution_count": 73,
   "id": "a3cd9413",
   "metadata": {},
   "outputs": [
    {
     "data": {
      "text/html": [
       "<div>\n",
       "<style scoped>\n",
       "    .dataframe tbody tr th:only-of-type {\n",
       "        vertical-align: middle;\n",
       "    }\n",
       "\n",
       "    .dataframe tbody tr th {\n",
       "        vertical-align: top;\n",
       "    }\n",
       "\n",
       "    .dataframe thead th {\n",
       "        text-align: right;\n",
       "    }\n",
       "</style>\n",
       "<table border=\"1\" class=\"dataframe\">\n",
       "  <thead>\n",
       "    <tr style=\"text-align: right;\">\n",
       "      <th></th>\n",
       "      <th>abril</th>\n",
       "      <th>acril</th>\n",
       "      <th>administr</th>\n",
       "      <th>automotriz</th>\n",
       "      <th>bachillerat</th>\n",
       "      <th>bitacor</th>\n",
       "      <th>buen</th>\n",
       "      <th>captur</th>\n",
       "      <th>cetis</th>\n",
       "      <th>chis</th>\n",
       "      <th>...</th>\n",
       "      <th>recurs</th>\n",
       "      <th>respons</th>\n",
       "      <th>sa</th>\n",
       "      <th>sucursal</th>\n",
       "      <th>tod</th>\n",
       "      <th>trabaj</th>\n",
       "      <th>trunc</th>\n",
       "      <th>tuxtl</th>\n",
       "      <th>vendedor</th>\n",
       "      <th>vision</th>\n",
       "    </tr>\n",
       "  </thead>\n",
       "  <tbody>\n",
       "    <tr>\n",
       "      <th>0</th>\n",
       "      <td>1</td>\n",
       "      <td>1</td>\n",
       "      <td>2</td>\n",
       "      <td>2</td>\n",
       "      <td>1</td>\n",
       "      <td>0</td>\n",
       "      <td>3</td>\n",
       "      <td>0</td>\n",
       "      <td>1</td>\n",
       "      <td>2</td>\n",
       "      <td>...</td>\n",
       "      <td>1</td>\n",
       "      <td>1</td>\n",
       "      <td>1</td>\n",
       "      <td>2</td>\n",
       "      <td>1</td>\n",
       "      <td>2</td>\n",
       "      <td>1</td>\n",
       "      <td>3</td>\n",
       "      <td>1</td>\n",
       "      <td>1</td>\n",
       "    </tr>\n",
       "    <tr>\n",
       "      <th>1</th>\n",
       "      <td>0</td>\n",
       "      <td>0</td>\n",
       "      <td>0</td>\n",
       "      <td>1</td>\n",
       "      <td>0</td>\n",
       "      <td>1</td>\n",
       "      <td>0</td>\n",
       "      <td>1</td>\n",
       "      <td>0</td>\n",
       "      <td>0</td>\n",
       "      <td>...</td>\n",
       "      <td>0</td>\n",
       "      <td>0</td>\n",
       "      <td>0</td>\n",
       "      <td>0</td>\n",
       "      <td>0</td>\n",
       "      <td>1</td>\n",
       "      <td>0</td>\n",
       "      <td>0</td>\n",
       "      <td>0</td>\n",
       "      <td>0</td>\n",
       "    </tr>\n",
       "  </tbody>\n",
       "</table>\n",
       "<p>2 rows × 59 columns</p>\n",
       "</div>"
      ],
      "text/plain": [
       "   abril  acril  administr  automotriz  bachillerat  bitacor  buen  captur  \\\n",
       "0      1      1          2           2            1        0     3       0   \n",
       "1      0      0          0           1            0        1     0       1   \n",
       "\n",
       "   cetis  chis  ...  recurs  respons  sa  sucursal  tod  trabaj  trunc  tuxtl  \\\n",
       "0      1     2  ...       1        1   1         2    1       2      1      3   \n",
       "1      0     0  ...       0        0   0         0    0       1      0      0   \n",
       "\n",
       "   vendedor  vision  \n",
       "0         1       1  \n",
       "1         0       0  \n",
       "\n",
       "[2 rows x 59 columns]"
      ]
     },
     "execution_count": 73,
     "metadata": {},
     "output_type": "execute_result"
    }
   ],
   "source": [
    "import pandas as pd\n",
    "from sklearn.feature_extraction.text import CountVectorizer, TfidfVectorizer\n",
    "\n",
    "CountVec = CountVectorizer(ngram_range=(1,1)) # to use bigrams ngram_range=(2,2)\n",
    "\n",
    "#transform\n",
    "Count_data = CountVec.fit_transform([sentence_1,sentence_2])\n",
    " \n",
    "#create dataframe\n",
    "cv_dataframe = pd.DataFrame(Count_data.toarray(),columns = CountVec.get_feature_names_out())\n",
    "cv_dataframe"
   ]
  },
  {
   "cell_type": "code",
   "execution_count": 82,
   "id": "411dc4e0",
   "metadata": {},
   "outputs": [],
   "source": [
    "count = 0\n",
    "count2 = 0\n",
    "matches = []\n",
    "\n",
    "for i,j in zip(cv_dataframe.iloc[0],cv_dataframe.iloc[1]):\n",
    "    if i >= 1 and j >=1:\n",
    "        count += 1\n",
    "        matches.append(cv_dataframe.columns.values[count2])\n",
    "    count2 += 1"
   ]
  },
  {
   "cell_type": "markdown",
   "id": "3d590bc0",
   "metadata": {},
   "source": [
    "### Dar una Calificacion Basada en Los Requerimientos "
   ]
  },
  {
   "cell_type": "code",
   "execution_count": 83,
   "id": "9386e2ed",
   "metadata": {},
   "outputs": [
    {
     "name": "stdout",
     "output_type": "stream",
     "text": [
      "El perfil del vacante se alinea 50% con el de los requerimeitnos\n"
     ]
    }
   ],
   "source": [
    "final_score = (count / len(Tokens_vacantes_4))*100\n",
    "\n",
    "print(\"El perfil del vacante se alinea \" + str(round(final_score)) + \"% con el de los requerimeitnos\" )"
   ]
  },
  {
   "cell_type": "code",
   "execution_count": 84,
   "id": "c73dd5e8",
   "metadata": {},
   "outputs": [
    {
     "data": {
      "text/plain": [
       "['automotriz', 'igual', 'pintur', 'trabaj']"
      ]
     },
     "execution_count": 84,
     "metadata": {},
     "output_type": "execute_result"
    }
   ],
   "source": [
    "matches"
   ]
  },
  {
   "cell_type": "code",
   "execution_count": null,
   "id": "4573ef6c",
   "metadata": {},
   "outputs": [],
   "source": []
  },
  {
   "cell_type": "code",
   "execution_count": null,
   "id": "4f050c9b",
   "metadata": {},
   "outputs": [],
   "source": []
  },
  {
   "cell_type": "code",
   "execution_count": null,
   "id": "664aabbc",
   "metadata": {},
   "outputs": [],
   "source": []
  }
 ],
 "metadata": {
  "kernelspec": {
   "display_name": "Python 3 (ipykernel)",
   "language": "python",
   "name": "python3"
  },
  "language_info": {
   "codemirror_mode": {
    "name": "ipython",
    "version": 3
   },
   "file_extension": ".py",
   "mimetype": "text/x-python",
   "name": "python",
   "nbconvert_exporter": "python",
   "pygments_lexer": "ipython3",
   "version": "3.9.12"
  }
 },
 "nbformat": 4,
 "nbformat_minor": 5
}
