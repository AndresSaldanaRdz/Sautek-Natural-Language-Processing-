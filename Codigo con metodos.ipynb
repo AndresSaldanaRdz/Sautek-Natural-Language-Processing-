{
 "cells": [
  {
   "cell_type": "markdown",
   "id": "67077d84",
   "metadata": {},
   "source": [
    "## Programa para analizar y calificar CV´s por Andres Saldaña"
   ]
  },
  {
   "cell_type": "code",
   "execution_count": 1,
   "id": "0f7f20cf",
   "metadata": {},
   "outputs": [],
   "source": [
    "import PyPDF2\n",
    "import nltk\n",
    "from nltk.tokenize import word_tokenize\n",
    "import re\n",
    "import pandas as pd\n",
    "from nltk.stem import SnowballStemmer\n",
    "from nltk.corpus import stopwords\n",
    "import os\n",
    "from sklearn.feature_extraction.text import CountVectorizer, TfidfVectorizer"
   ]
  },
  {
   "cell_type": "code",
   "execution_count": 2,
   "id": "f487d739",
   "metadata": {},
   "outputs": [],
   "source": [
    "# Funcion para convertir el contenido de un pdf a txt\n",
    "def getPDFFileContentToTXT(pdfFile):\n",
    "    myPDFFile = PyPDF2.PdfFileReader(pdfFile)\n",
    "    \n",
    "#Creamos un archivo txt con la informacion del pdf \n",
    "    with open('pdfContenido.txt', 'w') as pdf_output:\n",
    "        for page in range (myPDFFile.getNumPages()):\n",
    "            data = myPDFFile.getPage(page).extractText()\n",
    "            pdf_output.write(data)\n",
    "\n",
    "# Leemos la infromacion que acabamos de escribir e quitamos los espacios de lineas\n",
    "    with open('pdfContenido.txt', 'r') as myPDFContent:\n",
    "        return myPDFContent.read().replace('\\n',' ')"
   ]
  },
  {
   "cell_type": "code",
   "execution_count": 3,
   "id": "1d300efa",
   "metadata": {},
   "outputs": [],
   "source": [
    "def vacanteCSV_str(file,vacante): #requiere el arcvhivo csv de las vacantes y la vacante que se analizara\n",
    "    df = pd.read_csv(file)\n",
    "    df = df.fillna(\" \") #rellenamos las casillas sin nada con un espacio\n",
    "    requerimientos = \"\"\n",
    "    \n",
    "    for i in df[vacante]:\n",
    "        requerimientos = requerimientos +i + \" \"\n",
    "    \n",
    "    return requerimientos"
   ]
  },
  {
   "cell_type": "code",
   "execution_count": 4,
   "id": "67bab559",
   "metadata": {},
   "outputs": [],
   "source": [
    "def tokenize1_2_3_4(pdfFileContent,requerimientos):\n",
    "    \n",
    "    count = 1\n",
    "    for letter in range(len(pdfFileContent)): #funcion para limpiar y corregir errores de transformacion a txt\n",
    "    \n",
    "        count +=1\n",
    "        if count == len(pdfFileContent):\n",
    "            break\n",
    "    \n",
    "        l1 = pdfFileContent[letter]\n",
    "        l2 = pdfFileContent[letter + 1]\n",
    "        l3 = pdfFileContent[letter + 2]\n",
    "    \n",
    "        if l1.islower() == True and l2.isupper() == True and l3.islower() == True: #Errores de \\n\n",
    "            pdfFileContent = pdfFileContent.replace(l1+l2+l3,l1+\" \"+l2+l3)\n",
    "        \n",
    "        if l1.isdigit() == True and l2.isupper() == True and l3.islower() == True: #Numeros pegados a letras mayusculas \n",
    "            pdfFileContent = pdfFileContent.replace(l1+l2+l3,l1+\" \"+l2+l3)\n",
    "        \n",
    "    Tokens_1 = word_tokenize(pdfFileContent) \n",
    "    Tokens_vacantes_1 = word_tokenize(requerimientos)\n",
    "    \n",
    "    punctuation = re.compile(r'[-+/.?!,:;()•@[0-9]') #lista de caracteres que removeremos\n",
    "\n",
    "    Tokens_2 = []\n",
    "    for words in Tokens_1:\n",
    "        word = punctuation.sub(\"\",words)\n",
    "        if len(word)>0:\n",
    "            Tokens_2.append(word)\n",
    "        \n",
    "    Tokens_vacantes_2 = []\n",
    "    for words in Tokens_vacantes_1:\n",
    "        word = punctuation.sub(\"\",words)\n",
    "        if len(word)>0:\n",
    "            Tokens_vacantes_2.append(word)\n",
    "            \n",
    "    stopw = stopwords.words(\"spanish\") #Removemos las palabras de relleno que no aportan informacion\n",
    "    Tokens_3 = [word for word in Tokens_2 if word not in stopw] \n",
    "    Tokens_vacantes_3 = [word for word in Tokens_vacantes_2 if word not in stopw] \n",
    "    \n",
    "    sbst = SnowballStemmer('spanish')\n",
    "\n",
    "    Tokens_4 = []\n",
    "    for words in Tokens_3:\n",
    "        word = sbst.stem(words)\n",
    "        Tokens_4.append(word)\n",
    "\n",
    "    dic_revertir = {}\n",
    "    Tokens_vacantes_4 = []\n",
    "    for words in Tokens_vacantes_3:\n",
    "        word = sbst.stem(words)\n",
    "        Tokens_vacantes_4.append(word)\n",
    "        dic_revertir[word] = words\n",
    "        \n",
    "    sentence_1 = \" \".join(Tokens_4)\n",
    "    sentence_2 = \" \".join(Tokens_vacantes_4)\n",
    "    \n",
    "    CountVec = CountVectorizer(ngram_range=(1,1)) # to use bigrams ngram_range=(2,2)\n",
    "    Count_data = CountVec.fit_transform([sentence_1,sentence_2])\n",
    "    cv_dataframe = pd.DataFrame(Count_data.toarray(),columns = CountVec.get_feature_names_out())\n",
    "    \n",
    "    count = 0\n",
    "    count2 = 0\n",
    "    matches = []\n",
    "\n",
    "    for i,j in zip(cv_dataframe.iloc[0],cv_dataframe.iloc[1]):\n",
    "        if i >= 1 and j >=1:\n",
    "            count += 1\n",
    "            matches.append(cv_dataframe.columns.values[count2])\n",
    "        count2 += 1\n",
    "        \n",
    "    final_score = (count / len(Tokens_vacantes_4))*100\n",
    "    \n",
    "    final_matches = []\n",
    "    for i in matches: #lo que se encontro dentro del curriculum\n",
    "        final_matches.append(dic_revertir[i])\n",
    "    \n",
    "    return round(final_score),final_matches\n",
    "        "
   ]
  },
  {
   "cell_type": "markdown",
   "id": "64c0978e",
   "metadata": {},
   "source": [
    "# Correer Codigo"
   ]
  },
  {
   "cell_type": "code",
   "execution_count": 5,
   "id": "fb09069a",
   "metadata": {},
   "outputs": [],
   "source": [
    "requerimientos = vacanteCSV_str(\"Requisitos_Vacantes.csv\",\"Facturacion\")"
   ]
  },
  {
   "cell_type": "code",
   "execution_count": 6,
   "id": "60fe6b61",
   "metadata": {},
   "outputs": [],
   "source": [
    "pdfFileContent = getPDFFileContentToTXT('CVF1.pdf')\n",
    "os.remove(\"pdfContenido.txt\") #removemos el archivo de texto creado (opcional)"
   ]
  },
  {
   "cell_type": "code",
   "execution_count": 7,
   "id": "f3012517",
   "metadata": {},
   "outputs": [],
   "source": [
    "i,j = tokenize1_2_3_4(pdfFileContent,requerimientos)"
   ]
  },
  {
   "cell_type": "code",
   "execution_count": 10,
   "id": "88e159bb",
   "metadata": {},
   "outputs": [
    {
     "data": {
      "text/plain": [
       "['clientes', 'diario', 'Elaboración', 'Encargado', 'facturación']"
      ]
     },
     "execution_count": 10,
     "metadata": {},
     "output_type": "execute_result"
    }
   ],
   "source": [
    "j"
   ]
  },
  {
   "cell_type": "code",
   "execution_count": null,
   "id": "89f53680",
   "metadata": {},
   "outputs": [],
   "source": []
  }
 ],
 "metadata": {
  "kernelspec": {
   "display_name": "Python 3 (ipykernel)",
   "language": "python",
   "name": "python3"
  },
  "language_info": {
   "codemirror_mode": {
    "name": "ipython",
    "version": 3
   },
   "file_extension": ".py",
   "mimetype": "text/x-python",
   "name": "python",
   "nbconvert_exporter": "python",
   "pygments_lexer": "ipython3",
   "version": "3.9.12"
  },
  "vscode": {
   "interpreter": {
    "hash": "31f2aee4e71d21fbe5cf8b01ff0e069b9275f58929596ceb00d14d90e3e16cd6"
   }
  }
 },
 "nbformat": 4,
 "nbformat_minor": 5
}
