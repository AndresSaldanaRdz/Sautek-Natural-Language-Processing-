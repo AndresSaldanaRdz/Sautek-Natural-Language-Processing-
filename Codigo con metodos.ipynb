{
 "cells": [
  {
   "cell_type": "code",
   "execution_count": 82,
   "id": "ec596226",
   "metadata": {},
   "outputs": [],
   "source": [
    "import PyPDF2\n",
    "import nltk\n",
    "from nltk.tokenize import word_tokenize\n",
    "import re\n",
    "import pandas as pd\n",
    "from nltk.stem import SnowballStemmer\n",
    "from nltk.corpus import stopwords\n",
    "import os\n",
    "from sklearn.feature_extraction.text import CountVectorizer, TfidfVectorizer\n",
    "import csv"
   ]
  },
  {
   "cell_type": "code",
   "execution_count": 2,
   "id": "174490ec",
   "metadata": {},
   "outputs": [],
   "source": [
    "# Funcion para convertir el contenido de un pdf a txt\n",
    "def getPDFFileContentToTXT(pdfFile):\n",
    "    myPDFFile = PyPDF2.PdfFileReader(pdfFile)\n",
    "    \n",
    "#Creamos un archivo txt con la informacion del pdf \n",
    "    with open('pdfContenido.txt', 'w') as pdf_output:\n",
    "        for page in range (myPDFFile.getNumPages()):\n",
    "            data = myPDFFile.getPage(page).extractText()\n",
    "            pdf_output.write(data)\n",
    "\n",
    "# Leemos la infromacion que acabamos de escribir e quitamos los espacios de lineas\n",
    "    with open('pdfContenido.txt', 'r') as myPDFContent:\n",
    "        return myPDFContent.read().replace('\\n',' ')"
   ]
  },
  {
   "cell_type": "code",
   "execution_count": 3,
   "id": "bcc4315f",
   "metadata": {},
   "outputs": [],
   "source": [
    "def vacanteCSV_str(file,vacante): #requiere el arcvhivo csv de las vacantes y la vacante que se analizara\n",
    "    df = pd.read_csv(file)\n",
    "    df = df.fillna(\" \") #rellenamos las casillas sin nada con un espacio\n",
    "    requerimientos = \"\"\n",
    "    \n",
    "    for i in df[vacante]:\n",
    "        requerimientos = requerimientos +i + \" \"\n",
    "    \n",
    "    return requerimientos"
   ]
  },
  {
   "cell_type": "code",
   "execution_count": 47,
   "id": "650adb83",
   "metadata": {},
   "outputs": [],
   "source": [
    "def tokenize1_2_3_4(pdfFileContent,requerimientos):\n",
    "    \n",
    "    count = 1\n",
    "    for letter in range(len(pdfFileContent)): #funcion para limpiar y corregir errores de transformacion a txt\n",
    "    \n",
    "        count +=1\n",
    "        if count == len(pdfFileContent):\n",
    "            break\n",
    "    \n",
    "        l1 = pdfFileContent[letter]\n",
    "        l2 = pdfFileContent[letter + 1]\n",
    "        l3 = pdfFileContent[letter + 2]\n",
    "    \n",
    "        if l1.islower() == True and l2.isupper() == True and l3.islower() == True: #Errores de \\n\n",
    "            pdfFileContent = pdfFileContent.replace(l1+l2+l3,l1+\" \"+l2+l3)\n",
    "        \n",
    "        if l1.isdigit() == True and l2.isupper() == True and l3.islower() == True: #Numeros pegados a letras mayusculas \n",
    "            pdfFileContent = pdfFileContent.replace(l1+l2+l3,l1+\" \"+l2+l3)\n",
    "        \n",
    "    Tokens_1 = word_tokenize(pdfFileContent) \n",
    "    Tokens_vacantes_1 = word_tokenize(requerimientos)\n",
    "    \n",
    "    punctuation = re.compile(r'[-+/.?!,:;()•|@[0-9]') #lista de caracteres que removeremos\n",
    "\n",
    "    Tokens_2 = []\n",
    "    for words in Tokens_1:\n",
    "        word = punctuation.sub(\"\",words)\n",
    "        if len(word)>0:\n",
    "            Tokens_2.append(word)\n",
    "        \n",
    "    Tokens_vacantes_2 = []\n",
    "    for words in Tokens_vacantes_1:\n",
    "        word = punctuation.sub(\"\",words)\n",
    "        if len(word)>0:\n",
    "            Tokens_vacantes_2.append(word)\n",
    "            \n",
    "    stopw = stopwords.words(\"spanish\") #Removemos las palabras de relleno que no aportan informacion\n",
    "    Tokens_3 = [word for word in Tokens_2 if word not in stopw] \n",
    "    Tokens_vacantes_3 = [word for word in Tokens_vacantes_2 if word not in stopw] \n",
    "    \n",
    "    sbst = SnowballStemmer('spanish')\n",
    "\n",
    "    Tokens_4 = []\n",
    "    for words in Tokens_3:\n",
    "        word = sbst.stem(words)\n",
    "        Tokens_4.append(word)\n",
    "\n",
    "    dic_revertir = {}\n",
    "    Tokens_vacantes_4 = []\n",
    "    for words in Tokens_vacantes_3:\n",
    "        word = sbst.stem(words)\n",
    "        Tokens_vacantes_4.append(word)\n",
    "        dic_revertir[word] = words\n",
    "        \n",
    "    sentence_1 = \" \".join(Tokens_4)\n",
    "    sentence_2 = \" \".join(Tokens_vacantes_4)\n",
    "    \n",
    "    CountVec = CountVectorizer(ngram_range=(1,1)) # to use bigrams ngram_range=(2,2)\n",
    "    Count_data = CountVec.fit_transform([sentence_1,sentence_2])\n",
    "    cv_dataframe = pd.DataFrame(Count_data.toarray(),columns = CountVec.get_feature_names_out())\n",
    "    \n",
    "    count = 0\n",
    "    count2 = 0\n",
    "    matches = []\n",
    "\n",
    "    for i,j in zip(cv_dataframe.iloc[0],cv_dataframe.iloc[1]):\n",
    "        if i >= 1 and j >=1:\n",
    "            count += 1\n",
    "            matches.append(cv_dataframe.columns.values[count2])\n",
    "        count2 += 1\n",
    "        \n",
    "    final_score = (count / len(Tokens_vacantes_4))*100\n",
    "    \n",
    "    final_matches = []\n",
    "    for i in matches: #lo que se encontro dentro del curriculum\n",
    "        final_matches.append(dic_revertir[i])\n",
    "    \n",
    "    #print(Tokens_vacantes_4)\n",
    "    \n",
    "    #print(Tokens_4)\n",
    "    \n",
    "    return round(final_score),final_matches\n",
    "        "
   ]
  },
  {
   "cell_type": "code",
   "execution_count": 5,
   "id": "00ccd7ff",
   "metadata": {},
   "outputs": [],
   "source": [
    "requerimientos = vacanteCSV_str(\"Requisitos_Vacantes.csv\",\"Facturacion\")"
   ]
  },
  {
   "cell_type": "code",
   "execution_count": 6,
   "id": "5fe14857",
   "metadata": {},
   "outputs": [],
   "source": [
    "pdfFileContent = getPDFFileContentToTXT('CVF1.pdf')\n",
    "os.remove(\"pdfContenido.txt\") #removemos el archivo de texto creado (opcional)"
   ]
  },
  {
   "cell_type": "code",
   "execution_count": 49,
   "id": "45ee5cd7",
   "metadata": {},
   "outputs": [],
   "source": [
    "i,j = tokenize1_2_3_4(pdfFileContent,requerimientos)"
   ]
  },
  {
   "cell_type": "code",
   "execution_count": 8,
   "id": "5f1d256e",
   "metadata": {},
   "outputs": [
    {
     "name": "stdout",
     "output_type": "stream",
     "text": [
      "65 ['caja', 'clientes', 'cobranza', 'credito', 'dia', 'diario', 'Elaboración', 'Encargado', 'facturación', 'notas', 'prepa', 'saldo', 'telefonica']\n"
     ]
    }
   ],
   "source": [
    "print(i,j)"
   ]
  },
  {
   "cell_type": "markdown",
   "id": "d0f0951a",
   "metadata": {},
   "source": [
    "# Guardar todo en un Diccionario "
   ]
  },
  {
   "cell_type": "code",
   "execution_count": 139,
   "id": "da9a2fa3",
   "metadata": {},
   "outputs": [],
   "source": [
    "hola = \"/Users/andressaldana/Documents/GitHub/Sautek-Natural-language-programming\"\n",
    "\n",
    "archivos  = os.listdir(hola)"
   ]
  },
  {
   "cell_type": "code",
   "execution_count": 140,
   "id": "1d3ef79a",
   "metadata": {},
   "outputs": [],
   "source": [
    "arch  = hola + \"/\" + archivos[0]"
   ]
  },
  {
   "cell_type": "code",
   "execution_count": 141,
   "id": "489f36a5",
   "metadata": {},
   "outputs": [],
   "source": [
    "dict_final = {}\n",
    "pdfs = []\n",
    "\n",
    "for i in archivos: #abre todos los archivos con extension pdf y los guerda en pdfs\n",
    "        arch = hola + \"/\" + i \n",
    "        if arch[-4:] == \".pdf\":\n",
    "            pdfs.append(arch)\n",
    "            dict_final[i] = \"\"\n",
    "            \n",
    "            \n"
   ]
  },
  {
   "cell_type": "code",
   "execution_count": 142,
   "id": "3ccb25fd",
   "metadata": {},
   "outputs": [
    {
     "data": {
      "text/plain": [
       "[10, ['Encargado', 'mostrador']]"
      ]
     },
     "execution_count": 142,
     "metadata": {},
     "output_type": "execute_result"
    }
   ],
   "source": [
    "count = 0 #se asignan los puntajes de los curriculumns \n",
    "llaves = list(dict_final.keys())\n",
    "\n",
    "for file in pdfs:#lista de todos los titulos de los archivos pdfs \n",
    "    pdfFileContent = getPDFFileContentToTXT(file)\n",
    "    os.remove(\"pdfContenido.txt\")\n",
    "    i_score ,j_palabras = tokenize1_2_3_4(pdfFileContent,requerimientos)\n",
    "    dict_final[llaves[count]] = [i_score,j_palabras] #guardamos la calificacion y las palabras en el diccionario final \n",
    "    count += 1\n",
    "    \n",
    "dict_final[\"CVI1.pdf\"]"
   ]
  },
  {
   "cell_type": "code",
   "execution_count": 143,
   "id": "e61fce83",
   "metadata": {},
   "outputs": [
    {
     "data": {
      "text/plain": [
       "{'cinco': 0, 'cuatro': 1, 'uno': 2, 'tres': 3, 'dos': 4}"
      ]
     },
     "execution_count": 143,
     "metadata": {},
     "output_type": "execute_result"
    }
   ],
   "source": [
    "x = {\"uno\": 2, \"dos\": 4, \"tres\": 3, \"cuatro\": 1, \"cinco\": 0}\n",
    "dict(sorted(x.items(), key=lambda item: item[1]))\n"
   ]
  },
  {
   "cell_type": "code",
   "execution_count": 144,
   "id": "6ff6f7d7",
   "metadata": {},
   "outputs": [],
   "source": [
    "dict_final = dict(sorted(dict_final.items(), key=lambda item: item[1], reverse=True))"
   ]
  },
  {
   "cell_type": "code",
   "execution_count": 145,
   "id": "2a57b47f",
   "metadata": {},
   "outputs": [],
   "source": [
    "label3text = \"\" #se junta toda el diccionario en un solo texto para poder desplegarlo \n",
    "llaves = list(dict_final.keys())\n",
    "\n",
    "for i in llaves:\n",
    "    label3text += str(i) + \" Puntuacion: \" + str(dict_final[i][0]) + \"% \\n\""
   ]
  },
  {
   "cell_type": "code",
   "execution_count": 146,
   "id": "ca70a901",
   "metadata": {},
   "outputs": [
    {
     "name": "stdout",
     "output_type": "stream",
     "text": [
      "CVF1.pdf Puntuacion: 65% \n",
      "CVF4.pdf Puntuacion: 60% \n",
      "CVF3.pdf Puntuacion: 35% \n",
      "CVF2.pdf Puntuacion: 30% \n",
      "CVI2.pdf Puntuacion: 15% \n",
      "CVI1.pdf Puntuacion: 10% \n",
      "\n"
     ]
    }
   ],
   "source": [
    "print(label3text)"
   ]
  },
  {
   "cell_type": "markdown",
   "id": "a75d005a",
   "metadata": {},
   "source": [
    "# Generar CSV"
   ]
  },
  {
   "cell_type": "code",
   "execution_count": 160,
   "id": "dea704aa",
   "metadata": {},
   "outputs": [],
   "source": [
    "salida = open(\"Resultados.csv\", mode = \"w\", newline = \"\", encoding = \"utf-8\")"
   ]
  },
  {
   "cell_type": "code",
   "execution_count": 161,
   "id": "b22fa93d",
   "metadata": {},
   "outputs": [],
   "source": [
    "csv_writer = csv.writer(salida, delimiter = \",\")"
   ]
  },
  {
   "cell_type": "code",
   "execution_count": 128,
   "id": "337cf9a4",
   "metadata": {},
   "outputs": [],
   "source": [
    "#for i in llaves:\n",
    "#    csv_writer.writerow([i, \" Puntuacion: \", str(dict_final[i][0]) + \"%\", \"Requisitos encontrados: \", \" | \".join(dict_final[i][1])]\n",
    "#                       )"
   ]
  },
  {
   "cell_type": "code",
   "execution_count": 162,
   "id": "932d6788",
   "metadata": {},
   "outputs": [],
   "source": [
    "for i in llaves:\n",
    "    csv_writer.writerow([i, \" Puntuacion: \", str(dict_final[i][0]) + \"%\", \"Requisitos encontrados: \"] + dict_final[i][1])\n",
    "   "
   ]
  },
  {
   "cell_type": "code",
   "execution_count": 163,
   "id": "d61b53e9",
   "metadata": {},
   "outputs": [],
   "source": [
    "salida.close()"
   ]
  },
  {
   "cell_type": "code",
   "execution_count": 115,
   "id": "fc938368",
   "metadata": {},
   "outputs": [
    {
     "data": {
      "text/plain": [
       "'/Users/andressaldana/Documents/GitHub/Sautek-Natural-language-programming'"
      ]
     },
     "execution_count": 115,
     "metadata": {},
     "output_type": "execute_result"
    }
   ],
   "source": [
    "os.getcwd()"
   ]
  },
  {
   "cell_type": "code",
   "execution_count": null,
   "id": "2b753d9f",
   "metadata": {},
   "outputs": [],
   "source": []
  },
  {
   "cell_type": "code",
   "execution_count": null,
   "id": "390b570d",
   "metadata": {},
   "outputs": [],
   "source": []
  }
 ],
 "metadata": {
  "kernelspec": {
   "display_name": "Python 3 (ipykernel)",
   "language": "python",
   "name": "python3"
  },
  "language_info": {
   "codemirror_mode": {
    "name": "ipython",
    "version": 3
   },
   "file_extension": ".py",
   "mimetype": "text/x-python",
   "name": "python",
   "nbconvert_exporter": "python",
   "pygments_lexer": "ipython3",
   "version": "3.9.12"
  }
 },
 "nbformat": 4,
 "nbformat_minor": 5
}
